{
 "cells": [
  {
   "cell_type": "code",
   "execution_count": 1,
   "metadata": {},
   "outputs": [],
   "source": [
    "import torch\n",
    "\n",
    "image_input = torch.rand(1, 200, 200, 1)"
   ]
  },
  {
   "cell_type": "code",
   "execution_count": 2,
   "metadata": {},
   "outputs": [
    {
     "name": "stdout",
     "output_type": "stream",
     "text": [
      "torch.Size([1, 40000, 131])\n"
     ]
    }
   ],
   "source": [
    "from io_processors import ImagePreProcessor\n",
    "\n",
    "preprocessor = ImagePreProcessor(\n",
    "    image_size=(200, 200),\n",
    "    position_encoding_type='fourier',\n",
    "    fourier_position_encoding_kwargs=dict(\n",
    "        num_bands=32,\n",
    "        max_resolution=(200, 200),\n",
    "        sine_only=False,\n",
    "        concat_pos=True,\n",
    "    ),\n",
    "    n_extra_pos_mlp=0\n",
    ")\n",
    "\n",
    "preprocessor_output = preprocessor(image_input, network_input_is_1d=True)\n",
    "print(preprocessor_output[0].shape)\n"
   ]
  },
  {
   "cell_type": "code",
   "execution_count": 3,
   "metadata": {},
   "outputs": [],
   "source": [
    "from perceiver import PerceiverEncoder\n",
    "\n",
    "encoder = PerceiverEncoder(\n",
    "    in_channels=131,\n",
    "    num_self_attends_per_block=8,\n",
    "    num_blocks=1,\n",
    "    z_index_dim=44*44*1,\n",
    "    num_z_channels=512,\n",
    "    num_cross_attend_heads=1,\n",
    "    num_self_attend_heads=8,\n",
    "    cross_attend_widening_factor=1,\n",
    "    self_attend_widening_factor=1,\n",
    "    dropout_prob=0.0,\n",
    "    cross_attention_shape_for_attn='kv')\n",
    "\n",
    "encoder_output = encoder(preprocessor_output)\n"
   ]
  }
 ],
 "metadata": {
  "interpreter": {
   "hash": "6d917b20561b9ef1aebb1c7d23a2fdfb70660466ff66c27904819266a0837f34"
  },
  "kernelspec": {
   "display_name": "Python 3.8.12 ('pytorch')",
   "language": "python",
   "name": "python3"
  },
  "language_info": {
   "codemirror_mode": {
    "name": "ipython",
    "version": 3
   },
   "file_extension": ".py",
   "mimetype": "text/x-python",
   "name": "python",
   "nbconvert_exporter": "python",
   "pygments_lexer": "ipython3",
   "version": "3.8.12"
  },
  "orig_nbformat": 4
 },
 "nbformat": 4,
 "nbformat_minor": 2
}
